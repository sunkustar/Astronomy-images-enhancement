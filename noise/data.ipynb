{
 "cells": [
  {
   "cell_type": "code",
   "execution_count": 1,
   "metadata": {},
   "outputs": [
    {
     "name": "stdout",
     "output_type": "stream",
     "text": [
      "Classes: ['0', '1', '2', '3', '4', '5', '6', '7', '8', '9']\n"
     ]
    }
   ],
   "source": [
    "import torch\n",
    "from torchvision import datasets, transforms\n",
    "from torch.utils.data import DataLoader\n",
    "\n",
    "# Define the path to your dataset folder\n",
    "data_dir = 'dataset'\n",
    "\n",
    "# Apply necessary transformations\n",
    "transform = transforms.Compose([\n",
    "    transforms.ToTensor()         # Convert images to tensors\n",
    "     # Normalization for pre-trained models\n",
    "])\n",
    "\n",
    "# Load dataset using ImageFolder\n",
    "dataset = datasets.ImageFolder(root=data_dir, transform=transform)\n",
    "\n",
    "# Create a DataLoader\n",
    "dataloader = DataLoader(dataset, batch_size=32, shuffle=True, num_workers=4)\n",
    "\n",
    "# Check dataset classes\n",
    "print(\"Classes:\", dataset.classes)\n",
    "\n"
   ]
  },
  {
   "cell_type": "code",
   "execution_count": 2,
   "metadata": {},
   "outputs": [
    {
     "name": "stdout",
     "output_type": "stream",
     "text": [
      "0: 1081 images\n",
      "1: 1853 images\n",
      "2: 2645 images\n",
      "3: 2027 images\n",
      "4: 334 images\n",
      "5: 2043 images\n",
      "6: 1829 images\n",
      "7: 2628 images\n",
      "8: 1423 images\n",
      "9: 1873 images\n"
     ]
    }
   ],
   "source": [
    "from collections import Counter\n",
    "\n",
    "# Count images in each class\n",
    "class_counts = Counter([label for _, label in dataset])\n",
    "\n",
    "# Map class indices to class names and print the counts\n",
    "for class_name, count in zip(dataset.classes, class_counts.values()):\n",
    "    print(f\"{class_name}: {count} images\")\n"
   ]
  }
 ],
 "metadata": {
  "kernelspec": {
   "display_name": "cv",
   "language": "python",
   "name": "python3"
  },
  "language_info": {
   "codemirror_mode": {
    "name": "ipython",
    "version": 3
   },
   "file_extension": ".py",
   "mimetype": "text/x-python",
   "name": "python",
   "nbconvert_exporter": "python",
   "pygments_lexer": "ipython3",
   "version": "3.11.10"
  }
 },
 "nbformat": 4,
 "nbformat_minor": 2
}
